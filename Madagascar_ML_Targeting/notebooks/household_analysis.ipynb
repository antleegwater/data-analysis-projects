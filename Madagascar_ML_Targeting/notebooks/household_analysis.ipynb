{
 "cells": [
  {
   "cell_type": "markdown",
   "metadata": {},
   "source": [
    "# Household Analysis"
   ]
  },
  {
   "cell_type": "markdown",
   "metadata": {},
   "source": [
    "This notebook converts the Stata script `Household Analysis.do` to Python. It performs descriptive statistics for household poverty data, calculating proportions and confidence intervals, and exports the results to an Excel spreadsheet."
   ]
  },
  {
   "cell_type": "code",
   "execution_count": null,
   "metadata": {},
   "outputs": [],
   "source": [
    "!pip install survey openpyxl"
   ]
  },
  {
   "cell_type": "code",
   "execution_count": null,
   "metadata": {},
   "outputs": [],
   "source": [
    "import pandas as pd\n",
    "from survey import Survey\n",
    "import numpy as np\n",
    "import os\n",
    "from openpyxl import Workbook"
   ]
  },
  {
   "cell_type": "markdown",
   "metadata": {},
   "source": [
    "## Load and Prepare Data"
   ]
  },
  {
   "cell_type": "code",
   "execution_count": null,
   "metadata": {},
   "outputs": [],
   "source": [
    "df = pd.read_csv(os.path.join('..', 'data', 'cleaned', 'hrdata_clean.csv'))\n",
    "\n",
    "# Create include variable\n",
    "df['include'] = 0\n",
    "df.loc[df['region'].isin([25, 51, 52, 53]), 'include'] = 1\n",
    "\n",
    "# Recode region\n",
    "region_map = {\n",
    "    52: \"Androy\",\n",
    "    53: \"Anosy\",\n",
    "    51: \"AtsimoAndrefana\",\n",
    "    25: \"AtismoAtsinanana\"\n",
    "}\n",
    "df['newregion'] = df['region'].map(region_map)\n",
    "\n",
    "# Filter for subpopulation\n",
    "subpop_df = df[df['include'] == 1].copy()"
   ]
  },
  {
   "cell_type": "markdown",
   "metadata": {},
   "source": [
    "## Survey Design"
   ]
  },
  {
   "cell_type": "code",
   "execution_count": null,
   "metadata": {},
   "outputs": [],
   "source": [
    "# The Stata command is: svyset hv021[pw=wt], strata(hv022) singleunit(centered)\n",
    "# The `survey` library in Python does not support `singleunit(centered)` directly.\n",
    "# We will proceed with weights, strata, and PSU.\n",
    "survey_design = Survey(subpop_df, weights='wt', strata='hv022', psu='hv021')"
   ]
  },
  {
   "cell_type": "markdown",
   "metadata": {},
   "source": [
    "## Generic Analysis Function"
   ]
  },
  {
   "cell_type": "code",
   "execution_count": null,
   "metadata": {},
   "outputs": [],
   "source": [
    "def create_analysis_table(worksheet, survey_design, data, outcome_var, analysis_var, start_row=3, start_col=2):\n",
    "    # Proportions by group\n",
    "    prop_by_group = survey_design.crosstab(outcome_var, analysis_var, agg='proportion')\n",
    "    prop_df = prop_by_group[1].unstack()\n",
    "    for i, (item, prop) in enumerate(prop_df.items()):\n",
    "        worksheet.cell(row=start_row, column=start_col + i, value=prop)\n",
    "\n",
    "    # Overall proportion\n",
    "    overall_prop = survey_design.mean(outcome_var)\n",
    "    worksheet.cell(row=start_row + 4, column=start_col, value=overall_prop)\n",
    "\n",
    "    # Sample sizes\n",
    "    n_by_group = data[data[outcome_var].notna()].groupby(analysis_var).size()\n",
    "    for i, (item, n) in enumerate(n_by_group.items()):\n",
    "        worksheet.cell(row=start_row + 7, column=start_col + i, value=n)\n",
    "\n",
    "    total_n = data[outcome_var].notna().sum()\n",
    "    worksheet.cell(row=start_row + 11, column=start_col, value=total_n)\n",
    "\n",
    "    # Pearson's chi-squared test\n",
    "    try:\n",
    "        chi2, p, _ = survey_design.testing.chi2_test(outcome_var, analysis_var)\n",
    "        worksheet.cell(row=start_row + 5, column=start_col, value=p)\n",
    "    except Exception as e:\n",
    "        print(f"Could not calculate chi-squared test for {analysis_var}: {e}")\n",
    "\n",
    "    # Confidence Intervals\n",
    "    mean_by_group = survey_design.groupby(analysis_var).mean(outcome_var, return_ci=True)\n",
    "    for i, (item, stats) in enumerate(mean_by_group.iterrows()):\n",
    "        worksheet.cell(row=start_row + 13, column=start_col + i, value=stats['CI_low'])\n",
    "        worksheet.cell(row=start_row + 19, column=start_col + i, value=stats['CI_upp'])\n",
    "\n",
    "    mean_total = survey_design.mean(outcome_var, return_ci=True)\n",
    "    worksheet.cell(row=start_row + 17, column=start_col, value=mean_total['CI_low'])\n",
    "    worksheet.cell(row=start_row + 23, column=start_col, value=mean_total['CI_upp'])"
   ]
  },
  {
   "cell_type": "markdown",
   "metadata": {},
   "source": [
    "## Create Excel Workbook and Generate Tables"
   ]
  },
  {
   "cell_type": "code",
   "execution_count": null,
   "metadata": {},
   "outputs": [],
   "source": [
    "wb = Workbook()\n",
    "wb.remove(wb.active)\n",
    "output_excel_path = os.path.join('..', 'data', 'cleaned', 'Household_tables_final_python.xlsx')"
   ]
  },
  {
   "cell_type": "code",
   "execution_count": null,
   "metadata": {},
   "outputs": [],
   "source": [
    "# Table A-2: Poverty Levels by Region (%)\n",
    "ws_region = wb.create_sheet(\"Key outcome poverty\")\n",
    "create_analysis_table(ws_region, survey_design, subpop_df, 'poverty20', 'newregion')\n",
    "\n",
    "# Table A-1: Households living in poverty by region and gender of head (%)\n",
    "ws_headship = wb.create_sheet(\"Table 1 headship\")\n",
    "create_analysis_table(ws_headship, survey_design, subpop_df, 'poverty20', 'hh_head_female')\n",
    "\n",
    "# Table A-3: Proportion of Households Living in Poverty by Household Size (%)\n",
    "subpop_df['hhsize_cat2'] = pd.cut(subpop_df['hhsize'], bins=[0, 2, 5, float('inf')], labels=['2 or less', '3-5', '6 plus'], right=True)\n",
    "ws_hhsize = wb.create_sheet(\"Table 2 hh size\")\n",
    "create_analysis_table(ws_hhsize, survey_design, subpop_df, 'poverty20', 'hhsize_cat2')\n",
    "\n",
    "# Table A-4: Proportion of Households Living in Poverty by Age of Household Head (%)\n",
    "subpop_df['hhhage_cat'] = pd.cut(subpop_df['hv220'], bins=[0, 19, 34, 49, float('inf')], labels=['19 or younger', '20-34', '35-49', '50 plus'], right=True)\n",
    "ws_hhhage = wb.create_sheet(\"T3 head age\")\n",
    "create_analysis_table(ws_hhhage, survey_design, subpop_df, 'poverty20', 'hhhage_cat')\n",
    "\n",
    "# Table A-5: Proportion of Households Living in Poverty by Education of Household Head (%)\n",
    "subpop_df['hheduc_cat'] = pd.cut(subpop_df['education'], bins=[-1, 0, 1, 7], labels=['None', 'Incomplete Primary', 'Complete primary or higher'], right=True)\n",
    "ws_hheduc = wb.create_sheet(\"T4 head educ\")\n",
    "create_analysis_table(ws_hheduc, survey_design, subpop_df, 'poverty20', 'hheduc_cat')\n",
    "\n",
    "# Table A-6: Proportion of Households Living in Poverty by Number of Children Under 5 (%)\n",
    "subpop_df['childu5'] = pd.cut(subpop_df['hv014'], bins=[0, 1, 2, 3, float('inf')], labels=['1', '2', '3', '4 plus'], right=True)\n",
    "ws_childu5 = wb.create_sheet(\"T5 children under 5\")\n",
    "create_analysis_table(ws_childu5, survey_design, subpop_df[subpop_df['childu5'] != '0'], 'poverty20', 'childu5')\n",
    "\n",
    "# Table A-7: Proportion of Households Living in Poverty by Number of Dependents (0-14, 65+) (%)\n",
    "subpop_df['num_mbrs_dpndt'] = subpop_df['num_mbrs_14'] + subpop_df['num_mbrs_65']\n",
    "subpop_df['num_mbrs'] = pd.cut(subpop_df['num_mbrs_dpndt'], bins=[0, 1, 2, 3, float('inf')], labels=['1', '2', '3', '4 plus'], right=True)\n",
    "ws_dependency = wb.create_sheet(\"T6 dependency\")\n",
    "create_analysis_table(ws_dependency, survey_design, subpop_df, 'poverty20', 'num_mbrs')\n",
    "\n",
    "# Table A-8: Proportion of Households Living in Poverty by Household Possessions (%)\n",
    "ws_possessions = wb.create_sheet(\"household possessions\")\n",
    "create_analysis_table(ws_possessions, survey_design, subpop_df[subpop_df['radio'] == 1], 'poverty20', 'radio', start_col=2)\n",
    "create_analysis_table(ws_possessions, survey_design, subpop_df[subpop_df['mobile_phone'] == 1], 'poverty20', 'mobile_phone', start_col=3)\n",
    "create_analysis_table(ws_possessions, survey_design, subpop_df[subpop_df['bicycle'] == 1], 'poverty20', 'bicycle', start_col=4)\n",
    "\n",
    "# Table A-9: Proportion of Households Living in Poverty by Water and Toilet (%)\n",
    "ws_watertoilet = wb.create_sheet(\"housing water toilet\")\n",
    "create_analysis_table(ws_watertoilet, survey_design, subpop_df, 'poverty20', 'water_improve', start_col=2)\n",
    "subpop_df['cmbtoilet'] = pd.cut(subpop_df['sani_improve'], bins=[0, 2, 3], labels=['Unimproved or Improved Toilet', 'Open Defecation'], right=True)\n",
    "create_analysis_table(ws_watertoilet, survey_design, subpop_df, 'poverty20', 'cmbtoilet', start_col=4)\n",
    "\n",
    "# Table A-10: Proportion of Households Living in Poverty by Roof (%)\n",
    "ws_rooffloor = wb.create_sheet(\"housing roof floor\")\n",
    "create_analysis_table(ws_rooffloor, survey_design, subpop_df, 'poverty20', 'roof_type', start_col=2)\n",
    "\n",
    "# Table A-11: Proportion of Households Living in Poverty by Floor (%)\n",
    "subpop_df['floor_cat'] = pd.cut(subpop_df['floor_type'], bins=[1, 6, 7], labels=['Natural/Rudimentary', 'Finished'], right=True)\n",
    "create_analysis_table(ws_rooffloor, survey_design, subpop_df, 'poverty20', 'floor_cat', start_col=6)\n",
    "\n",
    "# Table A-12/13: Proportion of Households Living in Poverty by Agricultural assets (%)\n",
    "ws_assets = wb.create_sheet(\"agricultural assets\")\n",
    "create_analysis_table(ws_assets, survey_design, subpop_df[subpop_df['animal_cart'] == 1], 'poverty20', 'animal_cart', start_col=2)\n",
    "create_analysis_table(ws_assets, survey_design, subpop_df[subpop_df['own_agricland'] == 1], 'poverty20', 'own_agricland', start_col=3)\n",
    "create_analysis_table(ws_assets, survey_design, subpop_df[subpop_df['mobile_phone'] == 1], 'poverty20', 'mobile_phone', start_col=4)\n",
    "create_analysis_table(ws_assets, survey_design, subpop_df[subpop_df['bicycle'] == 1], 'poverty20', 'bicycle', start_col=5)\n",
    "\n",
    "# Table Livestock\n",
    "ws_livestock = wb.create_sheet(\"livestock\")\n",
    "create_analysis_table(ws_livestock, survey_design, subpop_df[subpop_df['own_livestock'] == 1], 'poverty20', 'own_livestock', start_col=2)\n",
    "create_analysis_table(ws_livestock, survey_design, subpop_df[subpop_df['own_cows'] == 1], 'poverty20', 'own_cows', start_col=3)\n",
    "create_analysis_table(ws_livestock, survey_design, subpop_df[subpop_df['own_goats'] == 1], 'poverty20', 'own_goats', start_col=4)\n",
    "create_analysis_table(ws_livestock, survey_design, subpop_df[subpop_df['own_sheep'] == 1], 'poverty20', 'own_sheep', start_col=5)\n",
    "create_analysis_table(ws_livestock, survey_design, subpop_df[subpop_df['own_poultry'] == 1], 'poverty20', 'own_poultry', start_col=6)\n",
    "create_analysis_table(ws_livestock, survey_design, subpop_df[subpop_df['own_zebus'] == 1], 'poverty20', 'own_zebus', start_col=7)\n",
    "create_analysis_table(ws_livestock, survey_design, subpop_df[subpop_df['own_ducks'] == 1], 'poverty20', 'own_ducks', start_col=8)\n",
    "create_analysis_table(ws_livestock, survey_design, subpop_df[subpop_df['own_pigs'] == 1], 'poverty20', 'own_pigs', start_col=9)\n",
    "\n",
    "# Table A-14: Proportion of Households Living in Poverty by Rural/Urban Location (%)\n",
    "ws_urban = wb.create_sheet(\"rural urban\")\n",
    "create_analysis_table(ws_urban, survey_design, subpop_df, 'poverty20', 'urban')"
   ]
  },
  {
   "cell_type": "code",
   "execution_count": null,
   "metadata": {},
   "outputs": [],
   "source": [
    "wb.save(output_excel_path)"
   ]
  }
 ],
 "metadata": {
  "kernelspec": {
   "display_name": "Python 3",
   "language": "python",
   "name": "python3"
  },
  "language_info": {
   "codemirror_mode": {
    "name": "ipython",
    "version": 3
   },
   "file_extension": ".py",
   "mimetype": "text/x-python",
   "name": "python",
   "nbconvert_exporter": "python",
   "pygments_lexer": "ipython3",
   "version": "3.10.4"
  }
 },
 "nbformat": 4,
 "nbformat_minor": 2
}