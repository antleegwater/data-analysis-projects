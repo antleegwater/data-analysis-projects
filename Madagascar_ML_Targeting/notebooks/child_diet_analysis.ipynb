{
 "cells": [
  {
   "cell_type": "markdown",
   "metadata": {},
   "source": [
    "# Child Diet Analysis"
   ]
  },
  {
   "cell_type": "markdown",
   "metadata": {},
   "source": [
    "This notebook converts the Stata script `Child Diet Analysis.do` to Python. It performs descriptive statistics for child diet data, calculating proportions and confidence intervals, and exports the results to an Excel spreadsheet."
   ]
  },
  {
   "cell_type": "code",
   "execution_count": null,
   "metadata": {},
   "outputs": [],
   "source": [
    "!pip install survey openpyxl"
   ]
  },
  {
   "cell_type": "code",
   "execution_count": null,
   "metadata": {},
   "outputs": [],
   "source": [
    "import pandas as pd\n",
    "from survey import Survey\n",
    "import numpy as np\n",
    "import os\n",
    "from openpyxl import Workbook"
   ]
  },
  {
   "cell_type": "markdown",
   "metadata": {},
   "source": [
    "## Load and Prepare Data"
   ]
  },
  {
   "cell_type": "code",
   "execution_count": null,
   "metadata": {},
   "outputs": [],
   "source": [
    "df = pd.read_csv(os.path.join('..', 'data', 'cleaned', 'child_diet_analysis.csv'))\n",
    "\n",
    "# Create include variable\n",
    "df['include'] = 0\n",
    "df.loc[df['region'].isin([25, 51, 52, 53]), 'include'] = 1\n",
    "\n",
    "# Recode region\n",
    