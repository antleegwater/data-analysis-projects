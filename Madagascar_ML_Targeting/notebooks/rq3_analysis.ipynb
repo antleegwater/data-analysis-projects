{
 "cells": [
  {
   "cell_type": "markdown",
   "metadata": {},
   "source": [
    "# RQ3 Analysis: Poverty, Stunting, and Diet"
   ]
  },
  {
   "cell_type": "markdown",
   "metadata": {},
   "source": [
    "This notebook performs the regression analysis from `RQ3.do`."
   ]
  },
  {
   "cell_type": "code",
   "execution_count": null,
   "metadata": {},
   "outputs": [],
   "source": [
    "!pip install survey openpyxl statsmodels"
   ]
  },
  {
   "cell_type": "code",
   "execution_count": null,
   "metadata": {},
   "outputs": [],
   "source": [
    "import pandas as pd\n",
    "from survey import Survey\n",
    "import statsmodels.formula.api as smf\n",
    "import numpy as np\n",
    "import os\n",
    "from openpyxl import Workbook"
   ]
  },
  {
   "cell_type": "markdown",
   "metadata": {},
   "source": [
    "## Part 1: Poverty Analysis"
   ]
  },
  {
   "cell_type": "markdown",
   "metadata": {},
   "source": [
    "### Load and Prepare Data"
   ]
  },
  {
   "cell_type": "code",
   "execution_count": null,
   "metadata": {},
   "outputs": [],
   "source": [
    "hr_df = pd.read_csv(os.path.join('..', 'data', 'cleaned', 'hrdata_clean.csv'))\n",
    "\n",
    "# Create include variable\n",
    "hr_df['include'] = 0\n",
    "hr_df.loc[hr_df['region'].isin([25, 51, 52, 53]), 'include'] = 1\n",
    "\n",
    "# Recode region\n",
    "region_map = {\n",
    "    52: \"Androy\",\n",
    "    53: \"Anosy\",\n",
    "    51: \"AtsimoAndrefana\",\n",
    "    25: \"AtismoAtsinanana\"\n",
    "}\n",
    "hr_df['newregion'] = hr_df['region'].map(region_map)\n",
    "\n",
    "# Filter for subpopulation\n",
    "hr_subpop_df = hr_df[hr_df['include'] == 1].copy()\n",
    "\n",
    "# Create dependency ratio\n",
    "hr_subpop_df['num_mbrs_dpndt'] = hr_subpop_df['num_mbrs_14'] + hr_subpop_df['num_mbrs_65']"
   ]
  },
  {
   "cell_type": "markdown",
   "metadata": {},
   "source": [
    "### Survey Design"
   ]
  },
  {
   "cell_type": "code",
   "execution_count": null,
   "metadata": {},
   "outputs": [],
   "source": [
    "hr_survey_design = Survey(hr_subpop_df, weights='wt', strata='hv022', psu='hv021')"
   ]
  },
  {
   "cell_type": "markdown",
   "metadata": {},
   "source": [
    "### Generic Regression Function"
   ]
  },
  {
   "cell_type": "code",
   "execution_count": null,
   "metadata": {},
   "outputs": [],
   "source": [
    "def run_regression_analysis(data, survey_design, outcome_var, independent_vars, regions, excel_writer, sheet_name):\n",
    "    results = []\n",
    "    for var in independent_vars:\n",
    "        row = {'Variable': var}\n",
    "        for region_code, region_name in regions.items():\n",
    "            formula = f'{var} ~ {outcome_var}'\n",
    "            try:\n",
    "                region_data = data[data['newregion'] == region_name]\n",
    "                model = smf.wls(formula, data=region_data, weights=region_data['wt']).fit()\n",
    "                row[f'{region_name}_coef'] = model.params[outcome_var]\n",
    "                row[f'{region_name}_se'] = model.bse[outcome_var]\n",
    "                row[f'{region_name}_p'] = model.pvalues[outcome_var]\n",
    "            except Exception as e:\n",
    "                print(f\"Could not run regression for {var} in {region_name}: {e}\")\n",
    "        results.append(row)\n",
    "    \n",
    "    results_df = pd.DataFrame(results)\n",
    "    results_df.to_excel(excel_writer, sheet_name=sheet_name, index=False)"
   ]
  },
  {
   "cell_type": "markdown",
   "metadata": {},
   "source": [
    "### Run Poverty Analysis and Export"
   ]
  },
  {
   "cell_type": "code",
   "execution_count": null,
   "metadata": {},
   "outputs": [],
   "source": [
    "output_excel_path_pov = os.path.join('..', 'data', 'cleaned', 'RQ3_Poverty_Analysis.xlsx')\n",
    "writer_pov = pd.ExcelWriter(output_excel_path_pov, engine='openpyxl')\n",
    "\n",
    "regions = {1: 'Androy', 2: 'Anosy', 3: 'AtsimoAndrefana', 4: 'AtismoAtsinanana'}\n",
    "\n",
    "# Household Demographics\n",
    "hh_demo_vars = ['hh_head_female', 'hh_head_age', 'hhsize', 'num_child_under5', 'num_mbrs_dpndt', 'dependency_ratio']\n",
    "run_regression_analysis(hr_subpop_df, hr_survey_design, 'poverty20', hh_demo_vars, regions, writer_pov, 'HH_Demographics')\n",
    "\n",
    "# Socio-economic Characteristics\n",
    "socio_econ_vars = ['educ_no_education', 'educ_incompl_primary', 'educ_primary', 'educ_incompl_sec1', 'educ_sec1', 'educ_incompl_sec2', 'educ_sec2', 'educ_higher', 'educ_dk', 'water_improve', 'toilet_improved', 'toilet_unimproved', 'toilet_open', 'roof_thatchleaf', 'roof_palmbamb', 'roof_metal', 'roof_other', 'floor_earthsand', 'floor_woodplanks', 'floor_palmbamb', 'floor_mats', 'floor_vinylasph', 'floor_cement', 'floor_other', 'electricity', 'cookfuel_charcoal', 'cookfuel_wood', 'cookfuel_strawshrub', 'cookfuel_other', 'num_rooms_sleep', 'radio', 'television', 'mobile_phone', 'bicycle', 'urban']\n",
    "run_regression_analysis(hr_subpop_df, hr_survey_design, 'poverty20', socio_econ_vars, regions, writer_pov, 'SocioEconomic')\n",
    "\n",
    "# Assets\n",
    "asset_vars = ['own_agricland', 'animal_cart', 'hectares_agricland', 'own_livestock', 'own_cows', 'own_horses', 'own_goats', 'own_sheep', 'own_poultry', 'own_zebus', 'own_ducks', 'own_pigs', 'numown_poultry', 'numown_zebus']\n",
    "run_regression_analysis(hr_subpop_df, hr_survey_design, 'poverty20', asset_vars, regions, writer_pov, 'Assets')\n",
    "\n",
    "writer_pov.close()"
   ]
  },
  {
   "cell_type": "markdown",
   "metadata": {},
   "source": [
    "## Part 2: Child Stunting Analysis"
   ]
  },
  {
   "cell_type": "markdown",
   "metadata": {},
   "source": [
    "### Load and Prepare Data"
   ]
  },
  {
   "cell_type": "code",
   "execution_count": null,
   "metadata": {},
   "outputs": [],
   "source": [
    "stunt_df = pd.read_csv(os.path.join('..', 'data', 'cleaned', 'child_stunting_analysis.csv'))\n",
    "\n",
    "# Create include variable\n",
    "stunt_df['include'] = 0\n",
    "stunt_df.loc[stunt_df['region'].isin([25, 51, 52, 53]), 'include'] = 1\n",
    "\n",
    "# Recode region\n",
    "stunt_df['newregion'] = stunt_df['region'].map(region_map)\n",
    "\n",
    "# Filter for subpopulation\n",
    "stunt_subpop_df = stunt_df[stunt_df['include'] == 1].copy()\n",
    "\n",
    "# Create dependency ratio\n",
    "stunt_subpop_df['num_mbrs_dpndt'] = stunt_subpop_df['num_mbrs_14'] + stunt_subpop_df['num_mbrs_65']"
   ]
  },
  {
   "cell_type": "markdown",
   "metadata": {},
   "source": [
    "### Survey Design"
   ]
  },
  {
   "cell_type": "code",
   "execution_count": null,
   "metadata": {},
   "outputs": [],
   "source": [
    "stunt_survey_design = Survey(stunt_subpop_df, weights='wt', strata='hv022', psu='hv021')"
   ]
  },
  {
   "cell_type": "markdown",
   "metadata": {},
   "source": [
    "### Run Stunting Analysis and Export"
   ]
  },
  {
   "cell_type": "code",
   "execution_count": null,
   "metadata": {},
   "outputs": [],
   "source": [
    "output_excel_path_stunt = os.path.join('..', 'data', 'cleaned', 'RQ3_Stunting_Analysis.xlsx')\n",
    "writer_stunt = pd.ExcelWriter(output_excel_path_stunt, engine='openpyxl')\n",
    "\n",
    "# Household Demographics\n",
    "run_regression_analysis(stunt_subpop_df, stunt_survey_design, 'nt_ch_stunt', hh_demo_vars, regions, writer_stunt, 'HH_Demographics')\n",
    "\n",
    "# Socio-economic Characteristics\n",
    "run_regression_analysis(stunt_subpop_df, stunt_survey_design, 'nt_ch_stunt', socio_econ_vars, regions, writer_stunt, 'SocioEconomic')\n",
    "\n",
    "# Assets\n",
    "run_regression_analysis(stunt_subpop_df, stunt_survey_design, 'nt_ch_stunt', asset_vars, regions, writer_stunt, 'Assets')\n",
    "\n",
    "writer_stunt.close()"
   ]
  },
  {
   "cell_type": "markdown",
   "metadata": {},
   "source": [
    "## Part 3: Child Diet Analysis"
   ]
  },
  {
   "cell_type": "markdown",
   "metadata": {},
   "source": [
    "### Load and Prepare Data"
   ]
  },
  {
   "cell_type": "code",
   "execution_count": null,
   "metadata": {},
   "outputs": [],
   "source": [
    "diet_df = pd.read_stata(os.path.join('..', 'data', 'cleaned', 'child_diet_analysis.dta'))\n",
    "\n",
    "# Create include variable\n",
    "diet_df['include'] = 0\n",
    "diet_df.loc[diet_df['region'].isin([25, 51, 52, 53]), 'include'] = 1\n",
    "\n",
    "# Recode region\n",
    "diet_df['newregion'] = diet_df['region'].map(region_map)\n",
    "\n",
    "# Filter for subpopulation\n",
    "diet_subpop_df = diet_df[diet_df['include'] == 1].copy()\n",
    "\n",
    "# Create dependency ratio\n",
    "diet_subpop_df['num_mbrs_dpndt'] = diet_subpop_df['num_mbrs_14'] + diet_subpop_df['num_mbrs_65']\n",
    "\n",
    "# Create mother occupation dummies\n",
    "recode_map = {0: 'Not working', 4: 'Agriculture', 5: 'Agriculture', 1: 'Other', 2: 'Other', 3: 'Other', 6: 'Other', 7: 'Other', 8: 'Other', 10: 'Other', 96: 'Other'}\n",
    "diet_subpop_df['mother_occup'] = diet_subpop_df['v717'].map(recode_map)\n",
    "occup_dummies = pd.get_dummies(diet_subpop_df['mother_occup'], prefix='occup')\n",
    "diet_subpop_df = pd.concat([diet_subpop_df, occup_dummies], axis=1)"
   ]
  },
  {
   "cell_type": "markdown",
   "metadata": {},
   "source": [
    "### Survey Design"
   ]
  },
  {
   "cell_type": "code",
   "execution_count": null,
   "metadata": {},
   "outputs": [],
   "source": [
    "diet_survey_design = Survey(diet_subpop_df, weights='wt', strata='hv022', psu='hv021')"
   ]
  },
  {
   "cell_type": "markdown",
   "metadata": {},
   "source": [
    "### Run Diet Analysis and Export"
   ]
  },
  {
   "cell_type": "code",
   "execution_count": null,
   "metadata": {},
   "outputs": [],
   "source": [
    "output_excel_path_diet = os.path.join('..', 'data', 'cleaned', 'RQ3_Diet_Analysis.xlsx')\n",
    "writer_diet = pd.ExcelWriter(output_excel_path_diet, engine='openpyxl')\n",
    "\n",
    "# Household Demographics\n",
    "run_regression_analysis(diet_subpop_df, diet_survey_design, 'nt_mad', hh_demo_vars, regions, writer_diet, 'HH_Demographics')\n",
    "\n",
    "# Socio-economic Characteristics\n",
    "diet_socio_econ_vars = socio_econ_vars + ['occup_Not working', 'occup_Agriculture', 'occup_Other', 'lit_cat', 'ch_diar', 'ch_ari']\n",
    "diet_subpop_df['lit_cat'] = pd.cut(diet_subpop_df['v155'], bins=[-1, 0, 2], labels=['None', 'Read part or whole sentence'], right=True)\n",
    "run_regression_analysis(diet_subpop_df, diet_survey_design, 'nt_mad', diet_socio_econ_vars, regions, writer_diet, 'SocioEconomic')\n",
    "\n",
    "# Assets\n",
    "run_regression_analysis(diet_subpop_df, diet_survey_design, 'nt_mad', asset_vars, regions, writer_diet, 'Assets')\n",
    "\n",
    "writer_diet.close()"
   ]
  }
 ],
 "metadata": {
  "kernelspec": {
   "display_name": "Python 3",
   "language": "python",
   "name": "python3"
  },
  "language_info": {
   "codemirror_mode": {
    "name": "ipython",
    "version": 3
   },
   "file_extension": ".py",
   "mimetype": "text/x-python",
   "name": "python",
   "nbconvert_exporter": "python",
   "pygments_lexer": "ipython3",
   "version": "3.10.4"
  }
 },
 "nbformat": 4,
 "nbformat_minor": 2
}